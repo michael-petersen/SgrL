{
 "cells": [
  {
   "cell_type": "markdown",
   "metadata": {},
   "source": [
    "# Identification of Sagittarius stream members in Angular Momentum with Gaussian mixture techniques\n",
    "## Peñarrubia & Petersen, 2021 (PP21)\n",
    "\n",
    "Instructions for how to interface with the datasets described in the text.\n"
   ]
  },
  {
   "cell_type": "code",
   "execution_count": 1,
   "metadata": {},
   "outputs": [],
   "source": [
    "import numpy as np\n",
    "\n",
    "# plotting utilities and style\n",
    "import matplotlib.pyplot as plt;import matplotlib as mpl;import matplotlib.cm as cm;import matplotlib.colors as colors\n",
    "%matplotlib inline\n",
    "\n",
    "cmap = mpl.cm.inferno\n",
    "mpl.rcParams['xtick.labelsize'] = 12\n",
    "mpl.rcParams['ytick.labelsize'] = 12\n",
    "mpl.rcParams['font.weight'] = 'medium'\n",
    "mpl.rcParams['axes.linewidth'] = 1.5\n",
    "mpl.rcParams['xtick.major.width'] = 1.5\n",
    "mpl.rcParams['xtick.minor.width'] = 0.75\n",
    "mpl.rcParams['xtick.minor.visible'] = True\n",
    "mpl.rcParams['ytick.major.width'] = 1.5\n",
    "mpl.rcParams['ytick.minor.width'] = 0.75\n",
    "mpl.rcParams['ytick.minor.visible'] = True"
   ]
  },
  {
   "cell_type": "markdown",
   "metadata": {},
   "source": [
    "## Data"
   ]
  },
  {
   "cell_type": "raw",
   "metadata": {},
   "source": [
    "# EDR3 l b d ed rv erv pml epml pmb epmb pmlpmbcorr pmem type \n",
    "\n",
    "# read in the main catalog\n",
    "Sgr = np.genfromtxt('sgr_memberships_all.csv',delimiter=',',names=True,dtype=None)\n",
    "\n",
    "# define a threshold for membership\n",
    "pthresh = 0.90\n",
    "\n",
    "w = np.where((np.abs(Sgr['sgrb'])<20.) & (Sgr['pmem']>pthresh) & (Sgr['r']>20))\n",
    "\n",
    "RP = open('sgr_memberships_all.csv')\n",
    "RO = open('sgr_members.csv','w')\n",
    "a = RP.readline()\n",
    "print(a.strip('\\n'),file=RO)\n",
    "\n",
    "for indx in range(0,Sgr['r'].size):\n",
    "    a = RP.readline()\n",
    "    if indx in w[0]:\n",
    "        print(a.strip('\\n'),file=RO)\n",
    "\n",
    "RP.close()\n",
    "RO.close()\n",
    "\n",
    "# contact us if you want the whole unstripped dataset!"
   ]
  },
  {
   "cell_type": "code",
   "execution_count": 2,
   "metadata": {},
   "outputs": [],
   "source": [
    "# EDR3 l b d ed rv erv pml epml pmb epmb pmlpmbcorr pmem type \n",
    "\n",
    "# read in the catalog\n",
    "Sgr = np.genfromtxt('sgr_members.csv',delimiter=',',names=True,dtype=None)\n"
   ]
  },
  {
   "cell_type": "code",
   "execution_count": 3,
   "metadata": {},
   "outputs": [
    {
     "name": "stdout",
     "output_type": "stream",
     "text": [
      "980\n"
     ]
    }
   ],
   "source": [
    "# these are the EDR3 IDs we identify as part of the stream, given some membership threshold\n",
    "# slightly different from the numbers in PP21 owing to the post-processing of the data.\n",
    "print(Sgr['EDR3'].astype('int').size)"
   ]
  },
  {
   "cell_type": "code",
   "execution_count": 4,
   "metadata": {},
   "outputs": [
    {
     "data": {
      "text/plain": [
       "Text(0, 0.5, 'Galactic $b$')"
      ]
     },
     "execution_count": 4,
     "metadata": {},
     "output_type": "execute_result"
    },
    {
     "data": {
      "image/png": "[encoded data removed]",
      "text/plain": [
       "<Figure size 432x288 with 1 Axes>"
      ]
     },
     "metadata": {
      "needs_background": "light"
     },
     "output_type": "display_data"
    }
   ],
   "source": [
    "plt.scatter(Sgr['l'],Sgr['b'],color='black',s=1.)\n",
    "\n",
    "plt.xlabel('Galactic $\\ell$',size=12)\n",
    "plt.ylabel('Galactic $b$',size=12)"
   ]
  },
  {
   "cell_type": "markdown",
   "metadata": {},
   "source": [
    "## Posteriors"
   ]
  },
  {
   "cell_type": "code",
   "execution_count": 5,
   "metadata": {},
   "outputs": [],
   "source": [
    "def read_posterior(infile,ncomps):\n",
    "    \"\"\"\n",
    "    Inspect the posterior distributions. \n",
    "    Alternately, use the posterior distributions for sampling\n",
    "    at even higher accuracy.\n",
    "    \"\"\"\n",
    "    \n",
    "    I = np.genfromtxt(infile)\n",
    "    P = dict()\n",
    "    \n",
    "    for n in range(0,ncomps):\n",
    "        P[n] = dict()\n",
    "        \n",
    "        # the total angular momentum of the component\n",
    "        P[n]['L'] = np.power(10.,I[:,7*n])\n",
    "        \n",
    "        # the phi angle of the angular momentum vector (from the galactic centre)\n",
    "        P[n]['phi'] = I[:,7*n+1]\n",
    "        \n",
    "        # the theta angle of the angular momentum vector (from the galactic centre)\n",
    "        P[n]['th'] = np.arccos(I[:,7*n+2])\n",
    "        \n",
    "        # convert the above to Cartesian for ease\n",
    "        P[n]['Lx'] = P[n]['L']*np.sin(P[n]['th'])*np.cos(P[n]['phi'])\n",
    "        P[n]['Ly'] = P[n]['L']*np.sin(P[n]['th'])*np.sin(P[n]['phi'])\n",
    "        P[n]['Lz'] = P[n]['L']*np.cos(P[n]['th'])\n",
    "        \n",
    "        # the x-direction hyperparameter\n",
    "        P[n]['sx'] = np.sqrt(1./I[:,7*n+3])\n",
    "        \n",
    "        # the y-direction hyperparameter\n",
    "        P[n]['sy'] = np.sqrt(1./I[:,7*n+4])\n",
    "        \n",
    "        # the z-direction hyperparameter\n",
    "        P[n]['sz'] = np.sqrt(1./I[:,7*n+5])\n",
    "        \n",
    "        # the membership fraction in the component\n",
    "        P[n]['frac'] = I[:,7*n+6]/np.sum(I[:,6::7],axis=1)\n",
    "        \n",
    "    # overall model realisation likelihood\n",
    "    P['likelihood'] = I[:,7*n+7]\n",
    "        \n",
    "    return P\n",
    "    \n",
    "P = read_posterior('posterior_chains.txt',4)\n",
    "\n"
   ]
  },
  {
   "cell_type": "code",
   "execution_count": 6,
   "metadata": {},
   "outputs": [
    {
     "name": "stdout",
     "output_type": "stream",
     "text": [
      "Param.     #1 (Sgr)   #2 (GSE)   #3 (smooth) #4 (OC)   \n",
      "frac            0.315      0.239      0.438      0.008 \n",
      "Lx            426.234     -0.736    144.232  -3905.246 \n",
      "Ly          -4949.399     10.603   -278.703  -2322.699 \n",
      "Lz          -1436.215      3.100    122.877  -4664.665 \n",
      "sx            655.948     10.207   1755.111     12.788 \n",
      "sy           1255.235     11.591   1926.290     12.131 \n",
      "sz            658.675     10.201   1733.461     12.598 \n"
     ]
    }
   ],
   "source": [
    "# reproduce Table 1\n",
    "print('{0:10s} {1:10s} {2:10s} {3:10s} {4:10s}'.format('Param.','#1 (Sgr)','#2 (GSE)','#3 (smooth)','#4 (OC)'))\n",
    "\n",
    "params = ['frac','Lx','Ly','Lz','sx','sy','sz']\n",
    "for p in params:\n",
    "    print('{0:10s} '.format(p),end='')\n",
    "    for c in [0,1,2,3]:\n",
    "        print('{0:10.3f} '.format(np.nanmedian(P[c][p])),end='')\n",
    "        # add uncertainties if you want!\n",
    "        #print('+{0:<10.3f} '.format((np.abs(np.nanpercentile(P[c][p],86.)-np.nanpercentile(P[c][p],50.)))),end='')\n",
    "        #print('-{0:<10.3f} '.format((np.abs(np.nanpercentile(P[c][p],14.)-np.nanpercentile(P[c][p],50.)))),end='')\n",
    "    print('')\n"
   ]
  },
  {
   "cell_type": "code",
   "execution_count": 7,
   "metadata": {},
   "outputs": [
    {
     "data": {
      "text/plain": [
       "Text(0, 0.5, 'L in comp #2')"
      ]
     },
     "execution_count": 7,
     "metadata": {},
     "output_type": "execute_result"
    },
    {
     "data": {
      "image/png": "[encoded data removed]",
      "text/plain": [
       "<Figure size 216x216 with 1 Axes>"
      ]
     },
     "metadata": {
      "needs_background": "light"
     },
     "output_type": "display_data"
    },
    {
     "data": {
      "image/png": "[encoded data removed]",
      "text/plain": [
       "<Figure size 216x216 with 1 Axes>"
      ]
     },
     "metadata": {
      "needs_background": "light"
     },
     "output_type": "display_data"
    }
   ],
   "source": [
    "# check covariances between components\n",
    "cname = ['Sgr','GSE','Halo','OC']\n",
    "\n",
    "# membership fractions\n",
    "plt.figure(figsize=(3,3))\n",
    "for ic,c in enumerate([0,1,2,3]):\n",
    "    for ic2,c2 in enumerate([0,1,2,3]):\n",
    "        if ic==ic2: continue\n",
    "        plt.scatter(P[c]['frac'][::5],P[c2]['frac'][::5],color=cm.viridis(ic/3.),s=1.,label=cname[ic])\n",
    "\n",
    "plt.xlabel('Fraction in comp #1',size=12)\n",
    "plt.ylabel('Fraction in comp #2',size=12)\n",
    "\n",
    "# total angular momentum\n",
    "plt.figure(figsize=(3,3))\n",
    "for ic,c in enumerate([0,1,2,3]):\n",
    "    for ic2,c2 in enumerate([0,1,2,3]):\n",
    "        if ic==ic2: continue\n",
    "        plt.scatter(P[c]['L'][::5],P[c2]['L'][::5],color=cm.viridis(ic/3.),s=1.,label=cname[ic])\n",
    "\n",
    "plt.xlabel('L in comp #1',size=12)\n",
    "plt.ylabel('L in comp #2',size=12)\n",
    "\n",
    "# some covariances in membership fractions -- but very mild overall.\n"
   ]
  },
  {
   "cell_type": "code",
   "execution_count": 8,
   "metadata": {},
   "outputs": [
    {
     "data": {
      "text/plain": [
       "Text(0, 0.5, 'L in dimension #2')"
      ]
     },
     "execution_count": 8,
     "metadata": {},
     "output_type": "execute_result"
    },
    {
     "data": {
      "image/png": "[encoded data removed]",
      "text/plain": [
       "<Figure size 216x216 with 1 Axes>"
      ]
     },
     "metadata": {
      "needs_background": "light"
     },
     "output_type": "display_data"
    }
   ],
   "source": [
    "# check covariances for indicvidual components between values\n",
    "\n",
    "cname = ['Sgr','GSE','Halo','OC']\n",
    "\n",
    "plt.figure(figsize=(3,3))\n",
    "\n",
    "for ic,c in enumerate([0,1,2,3]):\n",
    "    plt.scatter(P[c]['Lx'][::5]/1000.,P[c]['Ly'][::5]/1000.,color=cm.viridis(ic/3.),s=1.,label=cname[ic])\n",
    "    plt.scatter(P[c]['Lx'][::5]/1000.,P[c]['Lz'][::5]/1000.,color=cm.viridis(ic/3.),s=1.,label=cname[ic])\n",
    "    plt.scatter(P[c]['Ly'][::5]/1000.,P[c]['Lz'][::5]/1000.,color=cm.viridis(ic/3.),s=1.,label=cname[ic])\n",
    "\n",
    "plt.xlabel('L in dimension #1',size=12)\n",
    "plt.ylabel('L in dimension #2',size=12)\n",
    "\n",
    "# no obvious covariances!\n",
    "\n",
    "#plt.legend()"
   ]
  },
  {
   "cell_type": "code",
   "execution_count": null,
   "metadata": {},
   "outputs": [],
   "source": []
  }
 ],
 "metadata": {
  "kernelspec": {
   "display_name": "Python 3",
   "language": "python",
   "name": "python3"
  },
  "language_info": {
   "codemirror_mode": {
    "name": "ipython",
    "version": 3
   },
   "file_extension": ".py",
   "mimetype": "text/x-python",
   "name": "python",
   "nbconvert_exporter": "python",
   "pygments_lexer": "ipython3",
   "version": "3.6.8"
  }
 },
 "nbformat": 4,
 "nbformat_minor": 2
}
